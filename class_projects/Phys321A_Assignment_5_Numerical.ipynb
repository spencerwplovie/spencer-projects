{
 "cells": [
  {
   "cell_type": "markdown",
   "metadata": {},
   "source": [
    "# Numerical Problem"
   ]
  },
  {
   "cell_type": "markdown",
   "metadata": {},
   "source": [
    "Consider a ring of matter of mass M and radius R. Calculate the gravitational potential energy at a point P located in the plane of the ring, at a distance r < R from its centre.\n",
    "\n",
    "**a)** Show that the gravitational potential acting at the point *r* due to the ring of mass is given by:\n",
    "\n",
    "$\\phi = -\\frac{GM}{R} (1+\\frac{r^2}{4R^2}+...)$\n",
    "\n",
    "Let r=radius of Earth's orbit=$1.496x10^{11}$m, R=radius of Jupiter's orbit=$7.784x10^{11}$m, M=mass of Jupiter=$1.90x10^{27}$kg. Assume average gravitational potential produced by Jupiter on Earth is contextually equivalent to the general case stated above.\n"
   ]
  },
  {
   "cell_type": "markdown",
   "metadata": {},
   "source": [
    "**b)** Using this assumption and the values given in part (a), calculate a numerical value for the average gravitational potential that Jupiter exerts on Earth."
   ]
  },
  {
   "cell_type": "markdown",
   "metadata": {},
   "source": [
    "**c)** Use N point masses to represent the ring, such that $NM_i=M$. For a first approximation, let $N=2$ and $M_i=M/2$. Deploy at *R* and at opposite ends of the ring from one another. Caluclate potential. Repeat for N=4 evenly-spaced masses. Now increment by $(2^n)N$ for $(2^{-n})M_i$ until the potential is no more than 1 part in $10^4$ from the value determined in part b). What is N for this case?"
   ]
  },
  {
   "cell_type": "markdown",
   "metadata": {},
   "source": [
    "**d)** Repeat c) for r'=(0,0.2,0.4,0.6,0.8)r. Plot $\\mid\\phi (r)-\\phi (0)\\mid$ versus *r*. Show the difference varies quadratically with *r* as predicted by equation from a)."
   ]
  },
  {
   "cell_type": "code",
   "execution_count": 1,
   "metadata": {},
   "outputs": [],
   "source": [
    "%matplotlib inline\n",
    "import numpy as np\n",
    "\n",
    "# populate the interactive namespace with functions \n",
    "# from the module sympy\n",
    "\n",
    "# to avoid a confusion with matplotlib functions\n",
    "# that may have same names as sympy functions\n",
    "# don't import numpy and matplotlib functions on this step\n",
    "\n",
    "from sympy import *\n",
    "\n",
    "# this command makes pretty looking formula printing\n",
    "init_printing(pretty_print=True)"
   ]
  },
  {
   "cell_type": "code",
   "execution_count": 2,
   "metadata": {},
   "outputs": [],
   "source": [
    "# define symbols that are going to be used\n",
    "# in symbolic computations for real, integer, \n",
    "# and function objects\n",
    "x, r, R, theta, mu, G, M, g = symbols('x r R theta mu G M g')\n",
    "n = symbols('n', integer=True)\n",
    "f, genfun, phi = symbols('f genfun phi', cls=Function)"
   ]
  },
  {
   "cell_type": "markdown",
   "metadata": {},
   "source": [
    "**Part a)**"
   ]
  },
  {
   "cell_type": "code",
   "execution_count": 3,
   "metadata": {},
   "outputs": [
    {
     "data": {
      "image/png": "[encoded data removed]",
      "text/latex": [
       "$\\displaystyle \\frac{1}{\\sqrt{x^{2} - 2 x \\cos{\\left(\\theta \\right)} + 1}}$"
      ],
      "text/plain": [
       "           1            \n",
       "────────────────────────\n",
       "   _____________________\n",
       "  ╱  2                  \n",
       "╲╱  x  - 2⋅x⋅cos(θ) + 1 "
      ]
     },
     "execution_count": 3,
     "metadata": {},
     "output_type": "execute_result"
    }
   ],
   "source": [
    "# define the integrand that here represents\n",
    "# the so-called generating function of\n",
    "# the Legendre polynomials\n",
    "genfun = 1/sqrt(1+x**2-2*x*cos(theta))\n",
    "genfun"
   ]
  },
  {
   "cell_type": "code",
   "execution_count": 4,
   "metadata": {},
   "outputs": [
    {
     "data": {
      "image/png": "[encoded data removed]",
      "text/latex": [
       "$\\displaystyle 1 + x \\cos{\\left(\\theta \\right)} + x^{2} \\left(\\frac{3 \\cos^{2}{\\left(\\theta \\right)}}{2} - \\frac{1}{2}\\right) + x^{3} \\left(\\frac{5 \\cos^{3}{\\left(\\theta \\right)}}{2} - \\frac{3 \\cos{\\left(\\theta \\right)}}{2}\\right) + O\\left(x^{4}\\right)$"
      ],
      "text/plain": [
       "                  ⎛     2       ⎞      ⎛     3              ⎞        \n",
       "                2 ⎜3⋅cos (θ)   1⎟    3 ⎜5⋅cos (θ)   3⋅cos(θ)⎟    ⎛ 4⎞\n",
       "1 + x⋅cos(θ) + x ⋅⎜───────── - ─⎟ + x ⋅⎜───────── - ────────⎟ + O⎝x ⎠\n",
       "                  ⎝    2       2⎠      ⎝    2          2    ⎠        "
      ]
     },
     "execution_count": 4,
     "metadata": {},
     "output_type": "execute_result"
    }
   ],
   "source": [
    "# expand it into a series in x=(R/r) < 1 up to its 3rd power\n",
    "genfun.series(x,0,4)"
   ]
  },
  {
   "cell_type": "code",
   "execution_count": 5,
   "metadata": {},
   "outputs": [
    {
     "name": "stdout",
     "output_type": "stream",
     "text": [
      "The gravitational potential of the ring is\n"
     ]
    },
    {
     "data": {
      "image/png": "[encoded data removed]",
      "text/latex": [
       "$\\displaystyle - \\frac{G M \\left(\\pi + \\frac{\\pi r^{2}}{4 R^{2}}\\right)}{\\pi R}$"
      ],
      "text/plain": [
       "     ⎛       2⎞ \n",
       "     ⎜    π⋅r ⎟ \n",
       "-G⋅M⋅⎜π + ────⎟ \n",
       "     ⎜       2⎟ \n",
       "     ⎝    4⋅R ⎠ \n",
       "────────────────\n",
       "      π⋅R       "
      ]
     },
     "execution_count": 5,
     "metadata": {},
     "output_type": "execute_result"
    }
   ],
   "source": [
    "# get rid of the O symbol for the following computations\n",
    "getfunc_trunc = (genfun.series(x,0,4)).removeO()\n",
    "\n",
    "# collect all the coefficients in the above expansion\n",
    "coeff = [getfunc_trunc.coeff(x,i).factor() for i in range(4)]\n",
    "\n",
    "# integrate the truncated series expansion of\n",
    "# the generating function in theta from 0 to pi\n",
    "integral = integrate(getfunc_trunc, (theta,0,pi))\n",
    "\n",
    "# substitute the integral in the expression for \n",
    "# the gravitatonal potential\n",
    "phi = -2*mu*G*integral\n",
    "\n",
    "# substitute mu expressed via M, R, and r in phi\n",
    "f = phi.subs({mu:M/(2*pi*R),x:r/R})\n",
    "\n",
    "print(\"The gravitational potential of the ring is\")\n",
    "f"
   ]
  },
  {
   "cell_type": "markdown",
   "metadata": {},
   "source": [
    "**Part b)**"
   ]
  },
  {
   "cell_type": "code",
   "execution_count": 6,
   "metadata": {},
   "outputs": [
    {
     "name": "stdout",
     "output_type": "stream",
     "text": [
      "The gravitational potential of Jupiter's ring at Earth's orbit is -162905.960945529*(4.12604874256519e-25*pi*r**2 + pi)/pi SI units\n"
     ]
    }
   ],
   "source": [
    "RJ = 7.784e11  # radius of Jupiter's orbit in m\n",
    "MJ = 1.90e27   # Jupiter's mass in kg\n",
    "GN = 6.674e-11 # Newton's gravitational constant in SI units\n",
    "RE = 1.496e11  # radius of Earth's orbit in m\n",
    "\n",
    "fJE = (f.subs({G:GN, M:MJ, R:RJ, x:(RJ/RE)}))\n",
    "print (\"The gravitational potential of Jupiter's ring\",\\\n",
    "       \"at Earth's orbit is\",fJE,\"SI units\")"
   ]
  },
  {
   "cell_type": "markdown",
   "metadata": {},
   "source": [
    "**Part c)**"
   ]
  },
  {
   "cell_type": "markdown",
   "metadata": {},
   "source": [
    "The expression we want to use is:\n",
    "\n",
    "$$\n",
    "\\varphi (x) = -2\\frac{GM_i}{R}\\sum_{i=0}^{N/2}\\frac{1}{\\sqrt{1+x^2-2x\\cos\\alpha_i}},\n",
    "$$\n",
    "\n",
    "where $x = r/R$ and $\\alpha_i = i\\frac{\\pi}{(N/2)}$ and $i = 0,1,\\ldots,N/2$."
   ]
  },
  {
   "cell_type": "code",
   "execution_count": 7,
   "metadata": {},
   "outputs": [],
   "source": [
    "#Creating the first approximation to begin with\n",
    "\n",
    "N=2\n",
    "M=1 #kg\n",
    "Mi=M/N\n",
    "i=np.linspace(0,N/2)\n",
    "\n",
    "expr=(1+x**2-2*x*np.cos(i*np.pi*2/N)) \n",
    "#Need to take a summation of this expression\n",
    "#From i=0 to N/2 before plugging it into\n",
    "#phi1 below\n",
    "\n",
    "phi1 = -2*(G*Mi/R)*expr"
   ]
  },
  {
   "cell_type": "code",
   "execution_count": null,
   "metadata": {},
   "outputs": [],
   "source": []
  }
 ],
 "metadata": {
  "kernelspec": {
   "display_name": "Python 3",
   "language": "python",
   "name": "python3"
  },
  "language_info": {
   "codemirror_mode": {
    "name": "ipython",
    "version": 3
   },
   "file_extension": ".py",
   "mimetype": "text/x-python",
   "name": "python",
   "nbconvert_exporter": "python",
   "pygments_lexer": "ipython3",
   "version": "3.7.3"
  }
 },
 "nbformat": 4,
 "nbformat_minor": 2
}
